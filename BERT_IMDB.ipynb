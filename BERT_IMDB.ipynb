{
  "metadata": {
    "kernelspec": {
      "language": "python",
      "display_name": "Python 3",
      "name": "python3"
    },
    "language_info": {
      "name": "python",
      "version": "3.10.14",
      "mimetype": "text/x-python",
      "codemirror_mode": {
        "name": "ipython",
        "version": 3
      },
      "pygments_lexer": "ipython3",
      "nbconvert_exporter": "python",
      "file_extension": ".py"
    },
    "kaggle": {
      "accelerator": "nvidiaTeslaT4",
      "dataSources": [],
      "dockerImageVersionId": 30762,
      "isInternetEnabled": true,
      "language": "python",
      "sourceType": "notebook",
      "isGpuEnabled": true
    },
    "colab": {
      "name": " BERT-IMDB",
      "provenance": [],
      "include_colab_link": true
    }
  },
  "nbformat_minor": 0,
  "nbformat": 4,
  "cells": [
    {
      "cell_type": "markdown",
      "metadata": {
        "id": "view-in-github",
        "colab_type": "text"
      },
      "source": [
        "<a href=\"https://colab.research.google.com/github/Hayeonggg/CAU-IIPL-2024-Internship/blob/main/BERT_IMDB.ipynb\" target=\"_parent\"><img src=\"https://colab.research.google.com/assets/colab-badge.svg\" alt=\"Open In Colab\"/></a>"
      ]
    },
    {
      "cell_type": "code",
      "source": [
        "pip install transformers datasets torch"
      ],
      "metadata": {
        "_uuid": "8f2839f25d086af736a60e9eeb907d3b93b6e0e5",
        "_cell_guid": "b1076dfc-b9ad-4769-8c92-a6c4dae69d19",
        "execution": {
          "iopub.status.busy": "2024-08-22T14:50:15.832563Z",
          "iopub.execute_input": "2024-08-22T14:50:15.832864Z",
          "iopub.status.idle": "2024-08-22T14:50:30.059925Z",
          "shell.execute_reply.started": "2024-08-22T14:50:15.832832Z",
          "shell.execute_reply": "2024-08-22T14:50:30.058659Z"
        },
        "trusted": true,
        "id": "BFJLmK5Q8p3F"
      },
      "execution_count": null,
      "outputs": []
    },
    {
      "cell_type": "code",
      "source": [
        "from transformers import BertTokenizer, BertForSequenceClassification, Trainer, TrainingArguments\n",
        "from datasets import load_dataset\n",
        "import torch\n",
        "\n",
        "# 데이터셋 로드\n",
        "dataset = load_dataset('imdb')\n",
        "\n",
        "# 사전 학습된 BERT 모델과 토크나이저 로드\n",
        "tokenizer = BertTokenizer.from_pretrained('bert-base-uncased')\n",
        "model = BertForSequenceClassification.from_pretrained('bert-base-uncased', num_labels=2)"
      ],
      "metadata": {
        "execution": {
          "iopub.status.busy": "2024-08-22T14:50:30.061885Z",
          "iopub.execute_input": "2024-08-22T14:50:30.062228Z",
          "iopub.status.idle": "2024-08-22T14:50:59.361389Z",
          "shell.execute_reply.started": "2024-08-22T14:50:30.062191Z",
          "shell.execute_reply": "2024-08-22T14:50:59.360596Z"
        },
        "trusted": true,
        "id": "EvayoDop8p3G"
      },
      "execution_count": null,
      "outputs": []
    },
    {
      "cell_type": "code",
      "source": [
        "#데이터 전처리\n",
        "def tokenize_function(examples):\n",
        "    return tokenizer(examples['text'], padding='max_length', truncation=True)\n",
        "\n",
        "tokenized_datasets = dataset.map(tokenize_function, batched=True)\n",
        "tokenized_datasets = tokenized_datasets.remove_columns(['text'])\n",
        "tokenized_datasets.set_format('torch')\n"
      ],
      "metadata": {
        "execution": {
          "iopub.status.busy": "2024-08-22T14:50:59.362835Z",
          "iopub.execute_input": "2024-08-22T14:50:59.363777Z",
          "iopub.status.idle": "2024-08-22T15:06:29.280898Z",
          "shell.execute_reply.started": "2024-08-22T14:50:59.363728Z",
          "shell.execute_reply": "2024-08-22T15:06:29.280048Z"
        },
        "trusted": true,
        "id": "sMprNQGj8p3H"
      },
      "execution_count": null,
      "outputs": []
    },
    {
      "cell_type": "code",
      "source": [
        "import numpy as np\n",
        "import torch\n",
        "from sklearn.metrics import accuracy_score\n",
        "from torch.nn.functional import cross_entropy\n",
        "\n",
        "#훈련 및 평가 설정\n",
        "training_args = TrainingArguments(\n",
        "    output_dir='./results',\n",
        "    eval_strategy='epoch',\n",
        "    logging_strategy='steps',\n",
        "    logging_steps=50,\n",
        "    learning_rate=2e-5,\n",
        "    per_device_train_batch_size=8,\n",
        "    per_device_eval_batch_size=8,\n",
        "    num_train_epochs=3,\n",
        "    weight_decay=0.01,\n",
        "    report_to='wandb',  #W&B사용\n",
        "    run_name='BERT-IMDB-2'\n",
        ")\n",
        "\n",
        "def compute_metrics(p):\n",
        "    preds = np.argmax(p.predictions, axis=1)\n",
        "    accuracy = accuracy_score(p.label_ids, preds)\n",
        "\n",
        "    logits = torch.tensor(p.predictions)\n",
        "    labels = torch.tensor(p.label_ids)\n",
        "    loss = cross_entropy(logits, labels).item()\n",
        "    return {'accuracy': accuracy, 'loss': loss}\n",
        "\n",
        "trainer = Trainer(\n",
        "    model=model,\n",
        "    args=training_args,\n",
        "    train_dataset=tokenized_datasets['train'],\n",
        "    eval_dataset=tokenized_datasets['test'],\n",
        "    compute_metrics=compute_metrics,\n",
        ")\n"
      ],
      "metadata": {
        "execution": {
          "iopub.status.busy": "2024-08-22T15:19:30.916746Z",
          "iopub.execute_input": "2024-08-22T15:19:30.917692Z",
          "iopub.status.idle": "2024-08-22T15:19:30.963752Z",
          "shell.execute_reply.started": "2024-08-22T15:19:30.917634Z",
          "shell.execute_reply": "2024-08-22T15:19:30.962874Z"
        },
        "trusted": true,
        "id": "xWSMchjp8p3I"
      },
      "execution_count": null,
      "outputs": []
    },
    {
      "cell_type": "code",
      "source": [
        "import wandb\n",
        "wandb.login(key=\"b6cf03e168c0b825212bdd527b6dd76b60cff046\")\n",
        "wandb.init(\n",
        "    project='huggingface',\n",
        "    entity='bluebarry37',\n",
        "    name='BERT-IMDB-2',\n",
        "    config={\n",
        "        \"learning_rate\": 2e-5,\n",
        "        \"batch_size\": 8,\n",
        "        \"epochs\": 3\n",
        "    })\n"
      ],
      "metadata": {
        "execution": {
          "iopub.status.busy": "2024-08-22T15:28:45.561067Z",
          "iopub.execute_input": "2024-08-22T15:28:45.561479Z",
          "iopub.status.idle": "2024-08-22T15:30:16.22628Z",
          "shell.execute_reply.started": "2024-08-22T15:28:45.561437Z",
          "shell.execute_reply": "2024-08-22T15:30:16.225107Z"
        },
        "trusted": true,
        "id": "Gx8OR1w58p3I"
      },
      "execution_count": null,
      "outputs": []
    },
    {
      "cell_type": "code",
      "source": [
        "trainer.train()"
      ],
      "metadata": {
        "execution": {
          "iopub.status.busy": "2024-08-22T15:32:29.809287Z",
          "iopub.execute_input": "2024-08-22T15:32:29.809746Z",
          "iopub.status.idle": "2024-08-22T17:00:43.193759Z",
          "shell.execute_reply.started": "2024-08-22T15:32:29.809701Z",
          "shell.execute_reply": "2024-08-22T17:00:43.192788Z"
        },
        "trusted": true,
        "id": "c5FMDpXD8p3J"
      },
      "execution_count": null,
      "outputs": []
    },
    {
      "cell_type": "code",
      "source": [
        "import numpy as np\n",
        "import torch\n",
        "from sklearn.metrics import accuracy_score\n",
        "from torch.nn.functional import cross_entropy\n",
        "from transformers import Trainer, TrainingArguments\n",
        "\n",
        "# 훈련 및 평가 설정\n",
        "training_args = TrainingArguments(\n",
        "    output_dir='./results',\n",
        "    eval_strategy='epoch',  # 매 epoch마다 평가\n",
        "    logging_strategy='steps',\n",
        "    logging_steps=50,  # 매 50 스텝마다 로깅\n",
        "    learning_rate=2e-5,\n",
        "    per_device_train_batch_size=8,\n",
        "    per_device_eval_batch_size=8,\n",
        "    num_train_epochs=3,\n",
        "    weight_decay=0.01,\n",
        "    report_to='wandb',  # W&B 사용\n",
        "    run_name='BERT-IMDB-2'\n",
        ")\n",
        "\n",
        "def compute_metrics(p):\n",
        "    preds = np.argmax(p.predictions, axis=1)\n",
        "    accuracy = accuracy_score(p.label_ids, preds)\n",
        "\n",
        "    logits = torch.tensor(p.predictions)\n",
        "    labels = torch.tensor(p.label_ids)\n",
        "    loss = cross_entropy(logits, labels).item()\n",
        "\n",
        "    return {'val_accuracy': accuracy, 'val_loss': loss}  # val_ 접두사를 사용해 validation 임을 구분\n",
        "\n",
        "# Trainer 설정\n",
        "trainer = Trainer(\n",
        "    model=model,\n",
        "    args=training_args,\n",
        "    train_dataset=tokenized_datasets['train'],\n",
        "    eval_dataset=tokenized_datasets['test'],\n",
        "    compute_metrics=compute_metrics,\n",
        ")\n",
        "\n",
        "# 훈련 및 로깅 추가\n",
        "train_results = trainer.train()\n",
        "\n",
        "# Train accuracy와 loss를 계산 후 W&B에 기록\n",
        "train_loss = train_results.training_loss\n",
        "wandb.log({\"train_loss\": train_loss})\n",
        "\n",
        "# 평가 수행\n",
        "eval_results = trainer.evaluate()\n",
        "\n",
        "# 평가 결과를 W&B에 기록\n",
        "wandb.log({\"val_accuracy\": eval_results['eval_accuracy'], \"val_loss\": eval_results['eval_loss']})\n"
      ],
      "metadata": {
        "id": "oI4t7UBJ8p3V"
      },
      "execution_count": null,
      "outputs": []
    },
    {
      "cell_type": "code",
      "source": [
        "# Train/Validation 손실 및 정확도 확인\n",
        "train_results = trainer.evaluate(eval_dataset=tokenized_datasets['train'])\n",
        "test_results = trainer.evaluate(eval_dataset=tokenized_datasets['test'])"
      ],
      "metadata": {
        "execution": {
          "iopub.status.busy": "2024-08-22T17:11:17.197631Z",
          "iopub.execute_input": "2024-08-22T17:11:17.198692Z",
          "iopub.status.idle": "2024-08-22T17:13:52.569024Z",
          "shell.execute_reply.started": "2024-08-22T17:11:17.198637Z",
          "shell.execute_reply": "2024-08-22T17:13:52.567375Z"
        },
        "trusted": true,
        "id": "O7bZo2Ll8p3W"
      },
      "execution_count": null,
      "outputs": []
    },
    {
      "cell_type": "code",
      "source": [
        "print(f\"Train Accuracy: {train_results['eval_accuracy']}\")\n",
        "print(f\"Train Loss: {train_results['eval_loss']}\")\n",
        "print(f\"Test Accuracy: {test_results['eval_accuracy']}\")\n",
        "print(f\"Test Loss: {test_results['eval_loss']}\")"
      ],
      "metadata": {
        "id": "AS43VwCG8p3X"
      },
      "execution_count": null,
      "outputs": []
    },
    {
      "cell_type": "code",
      "source": [
        "#예측\n",
        "def sentiment_predict(new_sentence):\n",
        "  # 알파벳과 숫자를 제외하고 모두 제거 및 알파벳 소문자화\n",
        "    new_sentence = re.sub('[^0-9a-zA-Z ]', '', new_sentence).lower()\n",
        "    encoded = []\n",
        "\n",
        "    # 띄어쓰기 단위 토큰화 후 정수 인코딩\n",
        "    for word in new_sentence.split():\n",
        "        try:\n",
        "            # 단어 집합의 크기를 10,000으로 제한.\n",
        "            if word_to_index[word] <= 10000:\n",
        "                encoded.append(word_to_index[word]+3)\n",
        "            else:\n",
        "              # 10,000 이상의 숫자는 <unk> 토큰으로 변환.\n",
        "                encoded.append(2)\n",
        "         # 단어 집합에 없는 단어는 <unk> 토큰으로 변환.\n",
        "         except KeyError:\n",
        "            encoded.append(2)\n",
        "\n",
        "pad_sequence = pad_sequences([encoded], maxlen=max_len)\n",
        "score = float(loaded_model.predict(pad_sequence)) # 예측\n",
        "\n",
        "if(score > 0.5):\n",
        "    print(\"{:.2f}% 확률로 긍정 리뷰입니다.\".format(score * 100))\n",
        "else:\n",
        "    print(\"{:.2f}% 확률로 부정 리뷰입니다.\".format((1 - score) * 100))\n"
      ],
      "metadata": {
        "execution": {
          "iopub.status.busy": "2024-08-22T17:10:39.043286Z",
          "iopub.execute_input": "2024-08-22T17:10:39.043643Z",
          "iopub.status.idle": "2024-08-22T17:10:39.049925Z",
          "shell.execute_reply.started": "2024-08-22T17:10:39.043609Z",
          "shell.execute_reply": "2024-08-22T17:10:39.04867Z"
        },
        "trusted": true,
        "id": "2M5PP-So8p3X"
      },
      "execution_count": null,
      "outputs": []
    },
    {
      "cell_type": "code",
      "source": [
        "#부정 예상리뷰\n",
        "test_input = \"This movie was just way too overrated. The fighting was not professional and in slow motion. I was expecting more from a 200 million budget movie. The little sister of T.Challa was just trying too hard to be funny. The story was really dumb as well. Don't watch this movie if you are going because others say its great unless you are a Black Panther fan or Marvels fan.\"\n",
        "\n",
        "sentiment_predict(test_input)\n"
      ],
      "metadata": {
        "execution": {
          "iopub.status.busy": "2024-08-22T17:10:19.32648Z",
          "iopub.status.idle": "2024-08-22T17:10:19.327101Z",
          "shell.execute_reply.started": "2024-08-22T17:10:19.326884Z",
          "shell.execute_reply": "2024-08-22T17:10:19.326913Z"
        },
        "trusted": true,
        "id": "i5IncHEj8p3Y"
      },
      "execution_count": null,
      "outputs": []
    },
    {
      "cell_type": "code",
      "source": [
        "#긍정 예상리뷰\n",
        "test_input = \" I was lucky enough to be included in the group to see the advanced screening in Melbourne on the 15th of April, 2012. And, firstly, I need to say a big thank-you to Disney and Marvel Studios. \\\n",
        "Now, the film... how can I even begin to explain how I feel about this film? It is, as the title of this review says a 'comic book triumph'. I went into the film with very, very high expectations and I was not disappointed. \\\n",
        "Seeing Joss Whedon's direction and envisioning of the film come to life on the big screen is perfect. The script is amazingly detailed and laced with sharp wit a humor. The special effects are literally mind-blowing and the action scenes are both hard-hitting and beautifully choreographed.\"\n",
        "\n",
        "sentiment_predict(test_input)\n"
      ],
      "metadata": {
        "execution": {
          "iopub.status.busy": "2024-08-22T17:10:19.328517Z",
          "iopub.status.idle": "2024-08-22T17:10:19.328898Z",
          "shell.execute_reply.started": "2024-08-22T17:10:19.328725Z",
          "shell.execute_reply": "2024-08-22T17:10:19.328744Z"
        },
        "trusted": true,
        "id": "DTaGnKdF8p3Y"
      },
      "execution_count": null,
      "outputs": []
    },
    {
      "cell_type": "code",
      "source": [],
      "metadata": {
        "id": "DXMBt0Ma8p3Z"
      },
      "execution_count": null,
      "outputs": []
    }
  ]
}